{
 "cells": [
  {
   "cell_type": "code",
   "execution_count": 15,
   "metadata": {},
   "outputs": [
    {
     "data": {
      "text/plain": [
       "'c:\\\\userst72\\\\Bootcamp\\\\Module8\\x008-ETL\\x01\\x02\\\\Evr_WrestlingWithFunctions\\\\Resources\\\\WWE-Data-2016.csv'"
      ]
     },
     "execution_count": 15,
     "metadata": {},
     "output_type": "execute_result"
    }
   ],
   "source": [
    "import os\n",
    "import csv\n",
    "\n",
    "# Path to collect data from the Resources folder\n",
    "wrestling_csv= (\"c:\\\\users\\16472\\Bootcamp\\Module8\\08-ETL\\1\\02\\Evr_WrestlingWithFunctions\\Resources\\WWE-Data-2016.csv\")\n",
    "\n",
    "wrestling_csv\n"
   ]
  },
  {
   "cell_type": "code",
   "execution_count": 17,
   "metadata": {},
   "outputs": [
    {
     "ename": "ValueError",
     "evalue": "embedded null character",
     "output_type": "error",
     "traceback": [
      "\u001b[1;31m---------------------------------------------------------------------------\u001b[0m",
      "\u001b[1;31mValueError\u001b[0m                                Traceback (most recent call last)",
      "\u001b[1;32m<ipython-input-17-853a278747ca>\u001b[0m in \u001b[0;36m<module>\u001b[1;34m\u001b[0m\n\u001b[0;32m     16\u001b[0m     \u001b[0mname\u001b[0m\u001b[1;33m\u001b[0m\u001b[1;33m\u001b[0m\u001b[0m\n\u001b[0;32m     17\u001b[0m \u001b[1;31m# Read in the CSV file\u001b[0m\u001b[1;33m\u001b[0m\u001b[1;33m\u001b[0m\u001b[1;33m\u001b[0m\u001b[0m\n\u001b[1;32m---> 18\u001b[1;33m \u001b[1;32mwith\u001b[0m \u001b[0mopen\u001b[0m\u001b[1;33m(\u001b[0m\u001b[0mwrestling_csv\u001b[0m\u001b[1;33m,\u001b[0m \u001b[1;34m'r'\u001b[0m\u001b[1;33m)\u001b[0m \u001b[1;32mas\u001b[0m \u001b[0mcsvfile\u001b[0m\u001b[1;33m:\u001b[0m\u001b[1;33m\u001b[0m\u001b[1;33m\u001b[0m\u001b[0m\n\u001b[0m\u001b[0;32m     19\u001b[0m \u001b[1;33m\u001b[0m\u001b[0m\n\u001b[0;32m     20\u001b[0m     \u001b[1;31m# Split the data on commas\u001b[0m\u001b[1;33m\u001b[0m\u001b[1;33m\u001b[0m\u001b[1;33m\u001b[0m\u001b[0m\n",
      "\u001b[1;31mValueError\u001b[0m: embedded null character"
     ]
    }
   ],
   "source": [
    "# Define the function and have it accept the 'wrestlerData' as its sole parameter\n",
    "def print_percentages(wrestlerData):\n",
    "# Find the total number of matches wrestled\n",
    "    name = wrestler_data[0]\n",
    "    wins = wrestler_data[1]\n",
    "    losses = wrestler_data[2]\n",
    "    drawn = wrestler_data[3]\n",
    "    total_match = wins + losses + draws\n",
    "# Find the percentage of matches won\n",
    "    pct_won = wins / total_matches\n",
    "# Find the percentage of matches lost\n",
    "    pct_lost = losses / total_matches\n",
    "# Find the percentage of matches drawn\n",
    "    pct_drawn = drawn / total_matches\n",
    "# Print out the wrestler's name and their percentage stats\n",
    "    name\n",
    "# Read in the CSV file\n",
    "with open(wrestling_csv, 'r') as csvfile:\n",
    "\n",
    "    # Split the data on commas\n",
    "    csvreader = csv.reader(csvfile, delimiter=',')\n",
    "\n",
    "    # Prompt the user for what wrestler they would like to search for\n",
    "    name_to_check = input(\"What wrestler do you want to look for? \")\n",
    "\n",
    "    # Loop through the data\n",
    "    for row in csvreader:\n",
    "\n",
    "        # If the wrestler's name in a row is equal to that which the user input, run the 'print_percentages()' function\n",
    "        if(name_to_check == row[0]):\n",
    "            print_percentages(row)\n"
   ]
  }
 ],
 "metadata": {
  "kernelspec": {
   "display_name": "PythonData",
   "language": "python",
   "name": "pythondata"
  },
  "language_info": {
   "codemirror_mode": {
    "name": "ipython",
    "version": 3
   },
   "file_extension": ".py",
   "mimetype": "text/x-python",
   "name": "python",
   "nbconvert_exporter": "python",
   "pygments_lexer": "ipython3",
   "version": "3.7.9"
  }
 },
 "nbformat": 4,
 "nbformat_minor": 4
}
